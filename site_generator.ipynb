{
  "nbformat": 4,
  "nbformat_minor": 0,
  "metadata": {
    "colab": {
      "provenance": [],
      "toc_visible": true,
      "authorship_tag": "ABX9TyPDKSdu5ssPfnjzeLUJEoev",
      "include_colab_link": true
    },
    "kernelspec": {
      "name": "python3",
      "display_name": "Python 3"
    },
    "language_info": {
      "name": "python"
    }
  },
  "cells": [
    {
      "cell_type": "markdown",
      "metadata": {
        "id": "view-in-github",
        "colab_type": "text"
      },
      "source": [
        "<a href=\"https://colab.research.google.com/github/jorgik1/ai-site-generator/blob/main/site_generator.ipynb\" target=\"_parent\"><img src=\"https://colab.research.google.com/assets/colab-badge.svg\" alt=\"Open In Colab\"/></a>"
      ]
    },
    {
      "cell_type": "markdown",
      "source": [
        "This project is a Python script designed to generate a visually appealing and responsive portfolio website for a given GitHub user. The script utilizes OpenAI's API to generate the HTML content, which is then deployed to Vercel, a popular platform for hosting static websites. The script fetches the user's information from the GitHub API, and the resulting portfolio website highlights the user's profile details in a well-organized and mobile-friendly layout.\n",
        "\n",
        "Key features of the project include:\n",
        "\n",
        "1.   Fetching user information from the GitHub API.\n",
        "2.   Generating a custom HTML layout using OpenAI's API.\n",
        "3.   Deploying the generated website to Vercel.\n",
        "\n",
        "By leveraging OpenAI's API and Vercel's deployment platform, the script provides an automated solution for creating professional, personalized, and visually stunning portfolio websites for GitHub users."
      ],
      "metadata": {
        "id": "gIEIxzGq0ZkY"
      }
    },
    {
      "cell_type": "code",
      "source": [
        "!pip install openai python-dotenv langchain"
      ],
      "metadata": {
        "id": "xSoNQRgIWHrD"
      },
      "execution_count": null,
      "outputs": []
    },
    {
      "cell_type": "code",
      "source": [
        "!curl -fsSL https://deb.nodesource.com/setup_16.x | sudo -E bash -\n",
        "!sudo apt-get install -y nodejs\n",
        "!npm install -g vercel"
      ],
      "metadata": {
        "id": "QRku6zouorOE"
      },
      "execution_count": null,
      "outputs": []
    },
    {
      "cell_type": "code",
      "execution_count": null,
      "metadata": {
        "id": "cCV1_IK_VuFo"
      },
      "outputs": [],
      "source": [
        "import os\n",
        "import subprocess\n",
        "\n",
        "import openai\n",
        "from dotenv import load_dotenv\n",
        "from langchain.chat_models import ChatOpenAI\n",
        "from langchain.schema import SystemMessage, HumanMessage\n",
        "from google.colab import files\n",
        "uploaded = files.upload()\n",
        "load_dotenv(\"./.env\")\n",
        "VERCEL_TOKEN = os.environ.get(\"VERCEL_TOKEN\")\n",
        "openai.api_key = os.environ.get(\"OPENAI_API_KEY\")\n",
        "\n",
        "\n",
        "vercel_website_name = \"developer-portfolio\"\n",
        "\n",
        "import requests\n",
        "import tempfile\n",
        "from pathlib import Path\n",
        "import json\n",
        "\n",
        "def deployVercel(html_content: str, project_name: str, vercel_token: str):\n",
        "    with tempfile.TemporaryDirectory() as temp_dir:\n",
        "        project_dir = Path(temp_dir) / project_name\n",
        "        os.makedirs(project_dir)\n",
        "\n",
        "        # Write the HTML content to the index.html file\n",
        "        with open(project_dir / \"index.html\", \"w\") as f:\n",
        "            f.write(html_content)\n",
        "\n",
        "        # Write the vercel.json configuration file\n",
        "        vercel_config = {\n",
        "            \"name\": project_name,\n",
        "            \"version\": 2,\n",
        "            \"builds\": [{\"src\": \"index.html\", \"use\": \"@vercel/static\"}],\n",
        "        }\n",
        "\n",
        "        with open(project_dir / \"vercel.json\", \"w\") as f:\n",
        "            json.dump(vercel_config, f)\n",
        "\n",
        "        # Deploy to Vercel using the CLI\n",
        "        cmd = [\"vercel\", \"--token\", vercel_token, \"-y\", \"--prod\"]\n",
        "\n",
        "        result = subprocess.run(cmd, cwd=project_dir, capture_output=True, text=True)\n",
        "\n",
        "        if result.returncode == 0:\n",
        "            print(\"Deployment READY!!\")\n",
        "            print(f\"Final URL: {result.stdout.strip()}\")\n",
        "        else:\n",
        "            print(\"Deployment failed:\")\n",
        "            print(result.stderr)\n",
        "\n",
        "def create_website(github_json):\n",
        "    prompt = f\"\"\"Make a beautiful website. Provide only HTML and related code. Your code should not only be visually stunning, but also intuitive and mobile friendly. Include some animations where appropriate. \n",
        "             Remember to prioritize readability and organization, and to create a polished final product. Include the following information from this json in the website, \n",
        "             but skip the ones that end in url. Do not provide any other text or answer: \n",
        "            ---\n",
        "            {github_json}\"\"\"\n",
        "\n",
        "    chat = ChatOpenAI(temperature=0.2, max_tokens=2500)\n",
        "\n",
        "    messages = [\n",
        "        SystemMessage(content=\"You are a AI senior frontend designer and developer trained by OpenAI. Generate HTML that is colorful and well designed. Use gradient and animations where applicable.\"),\n",
        "        HumanMessage(content=prompt),\n",
        "    ]\n",
        "\n",
        "    response = chat(messages)\n",
        "\n",
        "    reply = response.content\n",
        "    return reply\n",
        "\n",
        "def createPortfolio(user):\n",
        "    response = requests.get(f\"https://api.github.com/users/{user}\")\n",
        "    if response.status_code != 200:\n",
        "        print(f\"Error: Unable to fetch the page. Status code: {response.status_code}\")\n",
        "        return\n",
        "    print(response.json())\n",
        "\n",
        "    html_content = create_website(response.json())\n",
        "    deployVercel(html_content, vercel_website_name, VERCEL_TOKEN)\n",
        "\n",
        "user = input(\"What developer github ID to make personal website for?\")\n",
        "\n",
        "createPortfolio(user)"
      ]
    }
  ]
}